{
 "cells": [
  {
   "cell_type": "markdown",
   "metadata": {},
   "source": [
    "MPDATA import"
   ]
  },
  {
   "cell_type": "code",
   "execution_count": 1,
   "metadata": {},
   "outputs": [],
   "source": [
    "from MPyDATA import ScalarField, VectorField, PeriodicBoundaryCondition"
   ]
  },
  {
   "cell_type": "markdown",
   "metadata": {},
   "source": [
    "Auxiliary functions"
   ]
  },
  {
   "cell_type": "code",
   "execution_count": 2,
   "metadata": {},
   "outputs": [],
   "source": [
    "from numpy import gradient\n",
    "import numpy as np\n",
    "import matplotlib.pyplot as plt\n",
    "\n",
    "nx, ny = 10, 10\n",
    "\n",
    "#extrapolation to value^{t+0.5}\n",
    "def extrapolate_in_time(u_old, u_new):\n",
    "    u_mid = (3. * u_new - u_old) * .5\n",
    "    return u_mid\n",
    "\n",
    "def grad(mass, dy=1., dx=1.):\n",
    "    grad_y = np.array(gradient(mass, axis=0)) / dy\n",
    "    grad_x = np.array(gradient(mass, axis=1)) / dx\n",
    "    return  grad_y, grad_x\n",
    "\n",
    "def interpolate_in_space_axis_x(uh, h):\n",
    "    u = np.zeros((ny, nx + 1))\n",
    "    result = uh / h\n",
    "    \n",
    "    for i in range(ny):\n",
    "        for j in range(1, nx):\n",
    "            u[i][j] = (result[i][j-1] + result[i][j]) / 2.\n",
    "    return u\n",
    "            \n",
    "def interpolate_in_space_axis_y(uh, h):\n",
    "    u = np.zeros((ny + 1, nx))\n",
    "    result = uh / h\n",
    "    \n",
    "    for j in range(nx):\n",
    "        for i in range(1, ny):\n",
    "            u[i][j] = (result[i-1][j] + result[i][j]) / 2.\n",
    "    return u\n",
    "\n",
    "coriolis_p = 2. * np.pi / 86164. # * sine(90)"
   ]
  },
  {
   "cell_type": "markdown",
   "metadata": {},
   "source": [
    "Advectee and advector initialization"
   ]
  },
  {
   "cell_type": "code",
   "execution_count": 3,
   "metadata": {},
   "outputs": [
    {
     "name": "stdout",
     "output_type": "stream",
     "text": [
      "h_new [[0.2  0.2  0.2  0.2  0.2  0.2  0.2  0.2  0.2  0.2 ]\n",
      " [0.2  0.2  0.2  0.2  0.2  0.2  0.2  0.2  0.2  0.2 ]\n",
      " [0.2  0.2  0.2  0.2  0.2  0.2  0.2  0.2  0.2  0.2 ]\n",
      " [0.2  0.2  0.2  0.2  0.2  0.2  0.2  0.2  0.2  0.2 ]\n",
      " [0.2  0.2  0.2  0.2  0.2  0.8  0.8  0.8  0.2  0.2 ]\n",
      " [0.2  0.2  0.2  0.2  0.2  0.8  0.73 0.66 0.2  0.2 ]\n",
      " [0.2  0.2  0.2  0.2  0.2  0.8  0.66 0.52 0.2  0.2 ]\n",
      " [0.2  0.2  0.2  0.2  0.2  0.8  0.59 0.38 0.2  0.2 ]\n",
      " [0.2  0.2  0.2  0.2  0.2  0.2  0.2  0.2  0.2  0.2 ]\n",
      " [0.2  0.2  0.2  0.2  0.2  0.2  0.2  0.2  0.2  0.2 ]] \n",
      "\n",
      "u_initial_x [[0. 0. 0. 0. 0. 0. 0. 0. 0. 0.]\n",
      " [0. 0. 0. 0. 0. 0. 0. 0. 0. 0.]\n",
      " [0. 0. 0. 0. 0. 0. 0. 0. 0. 0.]\n",
      " [0. 0. 0. 0. 0. 0. 0. 0. 0. 0.]\n",
      " [0. 0. 0. 0. 0. 0. 0. 0. 0. 0.]\n",
      " [0. 0. 0. 0. 0. 0. 0. 0. 0. 0.]\n",
      " [0. 0. 0. 0. 0. 0. 0. 0. 0. 0.]\n",
      " [0. 0. 0. 0. 0. 0. 0. 0. 0. 0.]\n",
      " [0. 0. 0. 0. 0. 0. 0. 0. 0. 0.]\n",
      " [0. 0. 0. 0. 0. 0. 0. 0. 0. 0.]\n",
      " [0. 0. 0. 0. 0. 0. 0. 0. 0. 0.]] \n",
      "\n",
      "grad_x [[ 0.     0.     0.     0.     0.     0.     0.     0.     0.     0.   ]\n",
      " [ 0.     0.     0.     0.     0.     0.     0.     0.     0.     0.   ]\n",
      " [ 0.     0.     0.     0.     0.     0.     0.     0.     0.     0.   ]\n",
      " [ 0.     0.     0.     0.     0.     0.3    0.3    0.3    0.     0.   ]\n",
      " [ 0.     0.     0.     0.     0.     0.3    0.265  0.23   0.     0.   ]\n",
      " [ 0.     0.     0.     0.     0.     0.    -0.07  -0.14   0.     0.   ]\n",
      " [ 0.     0.     0.     0.     0.     0.    -0.07  -0.14   0.     0.   ]\n",
      " [ 0.     0.     0.     0.     0.    -0.3   -0.23  -0.16   0.     0.   ]\n",
      " [ 0.     0.     0.     0.     0.    -0.3   -0.195 -0.09   0.     0.   ]\n",
      " [ 0.     0.     0.     0.     0.     0.     0.     0.     0.     0.   ]] \n",
      "\n"
     ]
    }
   ],
   "source": [
    "from MPyDATA.options import Options\n",
    "options = Options(n_iters=2, infinite_gauge=True, flux_corrected_transport=True)\n",
    "\n",
    "\n",
    "#initial state of liquid\n",
    "initial_m_value = 0.2\n",
    "h_initial = np.full((ny, nx), initial_m_value)\n",
    "\n",
    "\n",
    "#modification of liquid\n",
    "h_initial[4:8, 5:8] = np.array([[0.8 - (0.07 * i*j)  for i in range(3)] for j in range(4)])\n",
    "\n",
    "h_old = np.array(h_initial)\n",
    "h_new = np.array(h_initial)\n",
    "\n",
    "uh_new_x = np.zeros((ny, nx))\n",
    "uh_old_x = np.zeros((ny, nx))\n",
    "uh_new_y = np.zeros((ny, nx))\n",
    "uh_old_y = np.zeros((ny, nx))\n",
    "\n",
    "u_initial_x = np.zeros((ny, nx + 1))\n",
    "u_initial_y = np.zeros((ny + 1, nx))\n",
    "\n",
    "u_old =  np.array(u_initial_y), np.array(u_initial_x)\n",
    "u_new =  np.array(u_initial_y), np.array(u_initial_x)\n",
    "\n",
    "rhs_old_x = np.array(h_initial)\n",
    "rhs_old_y = np.array(h_initial)\n",
    "rhs_new_x = np.array(h_initial)\n",
    "rhs_new_y = np.array(h_initial)\n",
    "\n",
    "halo = options.n_halo\n",
    "\n",
    "advectee = ScalarField(\n",
    "    data = h_new,\n",
    "    halo=halo, \n",
    "    boundary_conditions=(PeriodicBoundaryCondition(), PeriodicBoundaryCondition())\n",
    ")\n",
    "\n",
    "advector = VectorField(\n",
    "    data = (u_initial_y, u_initial_x),\n",
    "    halo=halo,\n",
    "    boundary_conditions=(PeriodicBoundaryCondition(), PeriodicBoundaryCondition())   \n",
    ")\n",
    "\n",
    "print('h_new', h_new,'\\n')\n",
    "print('u_initial_x', u_initial_y,'\\n')\n",
    "print('grad_x', grad(h_new)[0],'\\n')"
   ]
  },
  {
   "cell_type": "markdown",
   "metadata": {},
   "source": [
    "Stepper setup"
   ]
  },
  {
   "cell_type": "code",
   "execution_count": 4,
   "metadata": {},
   "outputs": [],
   "source": [
    "from MPyDATA.stepper import Stepper\n",
    "stepper = Stepper(options=options, grid=(ny, nx))\n",
    "\n",
    "from MPyDATA.solver import Solver\n",
    "solver = Solver(stepper=stepper, advectee=advectee, advector=advector)"
   ]
  },
  {
   "cell_type": "markdown",
   "metadata": {},
   "source": [
    "Initial state"
   ]
  },
  {
   "cell_type": "code",
   "execution_count": 5,
   "metadata": {},
   "outputs": [
    {
     "data": {
      "image/png": "[encoded data removed]",
      "text/plain": [
       "<Figure size 360x360 with 1 Axes>"
      ]
     },
     "metadata": {
      "needs_background": "light"
     },
     "output_type": "display_data"
    }
   ],
   "source": [
    "# plt.imshow(h_new, cmap='hot', interpolation='nearest')\n",
    "# plt.pcolor(h_new, cmap=plt.cm.seismic, vmin=0, vmax=2)\n",
    "image_width = image_height = 5\n",
    "plt.figure(figsize=(image_width, image_height))\n",
    "plt.pcolor(h_new, cmap='hot', vmin=0, vmax=2)\n",
    "# plt.colorbar()\n",
    "plt.show()"
   ]
  },
  {
   "cell_type": "markdown",
   "metadata": {},
   "source": [
    "MPDATA function"
   ]
  },
  {
   "cell_type": "code",
   "execution_count": 6,
   "metadata": {},
   "outputs": [],
   "source": [
    "def MPDATA(advector, advectee):\n",
    "    solver.curr.get()[:] = advectee\n",
    "    solver.GC_phys.get_component(0)[:] = advector[0]\n",
    "    solver.GC_phys.get_component(1)[:] = advector[1]\n",
    "    solver.advance(nt=1)\n",
    "    return solver.curr.get() "
   ]
  },
  {
   "cell_type": "markdown",
   "metadata": {},
   "source": [
    "Main loop"
   ]
  },
  {
   "cell_type": "code",
   "execution_count": 7,
   "metadata": {},
   "outputs": [
    {
     "data": {
      "image/png": "[encoded data removed]",
      "text/plain": [
       "<Figure size 360x360 with 1 Axes>"
      ]
     },
     "metadata": {
      "needs_background": "light"
     },
     "output_type": "display_data"
    },
    {
     "data": {
      "image/png": "[encoded data removed]",
      "text/plain": [
       "<Figure size 360x360 with 1 Axes>"
      ]
     },
     "metadata": {
      "needs_background": "light"
     },
     "output_type": "display_data"
    },
    {
     "data": {
      "image/png": "[encoded data removed]",
      "text/plain": [
       "<Figure size 360x360 with 1 Axes>"
      ]
     },
     "metadata": {
      "needs_background": "light"
     },
     "output_type": "display_data"
    },
    {
     "data": {
      "image/png": "[encoded data removed]",
      "text/plain": [
       "<Figure size 360x360 with 1 Axes>"
      ]
     },
     "metadata": {
      "needs_background": "light"
     },
     "output_type": "display_data"
    },
    {
     "data": {
      "image/png": "[encoded data removed]",
      "text/plain": [
       "<Figure size 360x360 with 1 Axes>"
      ]
     },
     "metadata": {
      "needs_background": "light"
     },
     "output_type": "display_data"
    },
    {
     "data": {
      "image/png": "[encoded data removed]",
      "text/plain": [
       "<Figure size 360x360 with 1 Axes>"
      ]
     },
     "metadata": {
      "needs_background": "light"
     },
     "output_type": "display_data"
    },
    {
     "data": {
      "image/png": "[encoded data removed]",
      "text/plain": [
       "<Figure size 360x360 with 1 Axes>"
      ]
     },
     "metadata": {
      "needs_background": "light"
     },
     "output_type": "display_data"
    },
    {
     "data": {
      "image/png": "[encoded data removed]",
      "text/plain": [
       "<Figure size 360x360 with 1 Axes>"
      ]
     },
     "metadata": {
      "needs_background": "light"
     },
     "output_type": "display_data"
    },
    {
     "data": {
      "image/png": "[encoded data removed]",
      "text/plain": [
       "<Figure size 360x360 with 1 Axes>"
      ]
     },
     "metadata": {
      "needs_background": "light"
     },
     "output_type": "display_data"
    },
    {
     "data": {
      "image/png": "[encoded data removed]",
      "text/plain": [
       "<Figure size 360x360 with 1 Axes>"
      ]
     },
     "metadata": {
      "needs_background": "light"
     },
     "output_type": "display_data"
    },
    {
     "data": {
      "image/png": "[encoded data removed]",
      "text/plain": [
       "<Figure size 360x360 with 1 Axes>"
      ]
     },
     "metadata": {
      "needs_background": "light"
     },
     "output_type": "display_data"
    },
    {
     "data": {
      "image/png": "[encoded data removed]",
      "text/plain": [
       "<Figure size 360x360 with 1 Axes>"
      ]
     },
     "metadata": {
      "needs_background": "light"
     },
     "output_type": "display_data"
    },
    {
     "data": {
      "image/png": "[encoded data removed]",
      "text/plain": [
       "<Figure size 360x360 with 1 Axes>"
      ]
     },
     "metadata": {
      "needs_background": "light"
     },
     "output_type": "display_data"
    },
    {
     "data": {
      "image/png": "[encoded data removed]",
      "text/plain": [
       "<Figure size 360x360 with 1 Axes>"
      ]
     },
     "metadata": {
      "needs_background": "light"
     },
     "output_type": "display_data"
    },
    {
     "data": {
      "image/png": "[encoded data removed]",
      "text/plain": [
       "<Figure size 360x360 with 1 Axes>"
      ]
     },
     "metadata": {
      "needs_background": "light"
     },
     "output_type": "display_data"
    },
    {
     "data": {
      "image/png": "[encoded data removed]",
      "text/plain": [
       "<Figure size 360x360 with 1 Axes>"
      ]
     },
     "metadata": {
      "needs_background": "light"
     },
     "output_type": "display_data"
    },
    {
     "data": {
      "image/png": "[encoded data removed]",
      "text/plain": [
       "<Figure size 360x360 with 1 Axes>"
      ]
     },
     "metadata": {
      "needs_background": "light"
     },
     "output_type": "display_data"
    },
    {
     "data": {
      "image/png": "[encoded data removed]",
      "text/plain": [
       "<Figure size 360x360 with 1 Axes>"
      ]
     },
     "metadata": {
      "needs_background": "light"
     },
     "output_type": "display_data"
    },
    {
     "data": {
      "image/png": "[encoded data removed]",
      "text/plain": [
       "<Figure size 360x360 with 1 Axes>"
      ]
     },
     "metadata": {
      "needs_background": "light"
     },
     "output_type": "display_data"
    },
    {
     "data": {
      "image/png": "[encoded data removed]",
      "text/plain": [
       "<Figure size 360x360 with 1 Axes>"
      ]
     },
     "metadata": {
      "needs_background": "light"
     },
     "output_type": "display_data"
    }
   ],
   "source": [
    "g = 9.8 # m/s^2\n",
    "dx = 1.\n",
    "dy = 1.\n",
    "dt = 0.01\n",
    "\n",
    "for i in range(20):\n",
    "    u_mid_x = extrapolate_in_time(interpolate_in_space_axis_x(uh_new_x, h_new), interpolate_in_space_axis_x(uh_old_x, h_old))\n",
    "    u_mid_y = extrapolate_in_time(interpolate_in_space_axis_y(uh_new_y, h_new), interpolate_in_space_axis_y(uh_old_y, h_old))\n",
    "    u_mid = (u_mid_y, u_mid_x)\n",
    "\n",
    "    #RHS = 0, mass conservation\n",
    "    h_new[:] = MPDATA(u_mid, h_old)\n",
    "    \n",
    "    grad_y, grad_x = grad(h_new, dx=dx, dy=dy)\n",
    "    rhs_new_x = -g * h_new * grad_x + (coriolis_p * uh_new_y) + ((1./h_new)*(grad_y - grad_x) * uh_new_y)\n",
    "    rhs_new_y = -g * h_new * grad_y - (coriolis_p * uh_new_y) - ((1./h_new)*(grad_y - grad_x) * uh_new_x)\n",
    "\n",
    "    #momentum conservation\n",
    "    uh_new_x[:] = MPDATA(u_mid, uh_old_x + .5 * dt * rhs_old_x) + .5 * dt * rhs_new_x\n",
    "    uh_new_y[:] = MPDATA(u_mid, uh_old_y + .5 * dt * rhs_old_y) + .5 * dt * rhs_new_y\n",
    "    \n",
    "    #plot figure\n",
    "    plt.figure(figsize=(image_width,image_height))\n",
    "    plt.pcolor(h_new, cmap='hot', vmin=0, vmax=2)\n",
    "    plt.show()\n",
    "   \n",
    "    # replace variables\n",
    "    h_old, h_new = h_new, h_old\n",
    "    u_old, u_new = u_new, u_old\n",
    "    \n",
    "    rhs_old_x, rhs_new_x = rhs_new_x, rhs_old_x\n",
    "    rhs_old_y, rhs_new_y = rhs_new_y, rhs_old_y\n",
    "    \n",
    "    uh_old_x, uh_new_x = uh_new_x, uh_old_x\n",
    "    uh_old_y, uh_new_y = uh_new_y, uh_old_y\n",
    "\n",
    "    "
   ]
  }
 ],
 "metadata": {
  "kernelspec": {
   "display_name": "Python 3",
   "language": "python",
   "name": "python3"
  },
  "language_info": {
   "codemirror_mode": {
    "name": "ipython",
    "version": 3
   },
   "file_extension": ".py",
   "mimetype": "text/x-python",
   "name": "python",
   "nbconvert_exporter": "python",
   "pygments_lexer": "ipython3",
   "version": "3.6.9"
  }
 },
 "nbformat": 4,
 "nbformat_minor": 4
}
