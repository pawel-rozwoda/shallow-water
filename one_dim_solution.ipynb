{
 "cells": [
  {
   "cell_type": "markdown",
   "metadata": {},
   "source": [
    "MPDATA import"
   ]
  },
  {
   "cell_type": "code",
   "execution_count": 1,
   "metadata": {},
   "outputs": [
    {
     "ename": "ImportError",
     "evalue": "cannot import name 'VectorField'",
     "output_type": "error",
     "traceback": [
      "\u001b[0;31m---------------------------------------------------------------------------\u001b[0m",
      "\u001b[0;31mImportError\u001b[0m                               Traceback (most recent call last)",
      "\u001b[0;32m<ipython-input-1-50bc77116ebd>\u001b[0m in \u001b[0;36m<module>\u001b[0;34m\u001b[0m\n\u001b[0;32m----> 1\u001b[0;31m \u001b[0;32mfrom\u001b[0m \u001b[0mMPyDATA\u001b[0m\u001b[0;34m.\u001b[0m\u001b[0marakawa_c\u001b[0m\u001b[0;34m.\u001b[0m\u001b[0mscalar_field\u001b[0m \u001b[0;32mimport\u001b[0m \u001b[0mScalarField\u001b[0m\u001b[0;34m,\u001b[0m \u001b[0mVectorField\u001b[0m\u001b[0;34m,\u001b[0m \u001b[0mPeriodicBoundaryCondition\u001b[0m\u001b[0;34m\u001b[0m\u001b[0;34m\u001b[0m\u001b[0m\n\u001b[0m\u001b[1;32m      2\u001b[0m \u001b[0;32mimport\u001b[0m \u001b[0mnumpy\u001b[0m \u001b[0;32mas\u001b[0m \u001b[0mnp\u001b[0m\u001b[0;34m\u001b[0m\u001b[0;34m\u001b[0m\u001b[0m\n\u001b[1;32m      3\u001b[0m \u001b[0;32mimport\u001b[0m \u001b[0mmatplotlib\u001b[0m\u001b[0;34m.\u001b[0m\u001b[0mpyplot\u001b[0m \u001b[0;32mas\u001b[0m \u001b[0mplt\u001b[0m\u001b[0;34m\u001b[0m\u001b[0;34m\u001b[0m\u001b[0m\n",
      "\u001b[0;31mImportError\u001b[0m: cannot import name 'VectorField'"
     ]
    }
   ],
   "source": [
    "from MPyDATA import ScalarField, VectorField, PeriodicBoundaryCondition\n",
    "import numpy as np\n",
    "import matplotlib.pyplot as plt"
   ]
  },
  {
   "cell_type": "markdown",
   "metadata": {},
   "source": [
    "Auxiliary functions\n",
    "\n",
    "           "
   ]
  },
  {
   "cell_type": "code",
   "execution_count": null,
   "metadata": {},
   "outputs": [],
   "source": [
    "from numpy import sign\n",
    "import numpy as np\n",
    "from numpy import gradient\n",
    "\n",
    "\n",
    "#extrapolation to value^{t+0.5}\n",
    "def extrapolate_in_time(u_old, u_new):\n",
    "    u_mid = (3. * u_new - u_old) * .5\n",
    "    return u_mid\n",
    "\n",
    "\n",
    "def grad(mass, dx=1.):\n",
    "    return gradient(mass) / dx\n",
    "\n",
    "\n",
    "def interpolate_in_space(uh, h):\n",
    "    u = np.zeros((uh.shape[0] + 1))\n",
    "    result = np.array(uh)\n",
    "    \n",
    "    zero_h = h==0\n",
    "    non_zero_h = h!=0.\n",
    "    result[non_zero_h] /= h[non_zero_h]\n",
    "    result[zero_h] = 0.\n",
    "    \n",
    "    for i in range(1, u.shape[0] - 1):\n",
    "        u[i] = (result[i-1] + result[i]) / 2.\n",
    "\n",
    "    return u "
   ]
  },
  {
   "cell_type": "markdown",
   "metadata": {},
   "source": [
    "Advectee and advector initialization"
   ]
  },
  {
   "cell_type": "code",
   "execution_count": null,
   "metadata": {},
   "outputs": [],
   "source": [
    "dx = 2.4\n",
    "dt = 0.1\n",
    "\n",
    "from MPyDATA.options import Options\n",
    "options = Options(n_iters=2, infinite_gauge=True, flux_corrected_transport=True)\n",
    "\n",
    "nx = 40\n",
    "\n",
    "#initial state of liquid\n",
    "initial_m_value = 0.2\n",
    "h_initial = np.full(nx, initial_m_value)\n",
    "\n",
    "\n",
    "#modification of liquid\n",
    "\n",
    "h_initial[8:20] = np.array([0.8 - (0.02 * i)  for i in range(12)])\n",
    "\n",
    "h_old = np.array(h_initial)\n",
    "h_new = np.array(h_initial)\n",
    "\n",
    "uh_new = np.zeros(nx)\n",
    "uh_old = np.zeros(nx)\n",
    "\n",
    "u_initial = np.zeros((nx + 1))\n",
    "\n",
    "u_old = np.array(u_initial)\n",
    "u_new = np.array(u_initial)\n",
    "\n",
    "rhs_old = np.array(h_old)\n",
    "\n",
    "halo = options.n_halo\n",
    "\n",
    "advectee = ScalarField(\n",
    "    data = h_new,\n",
    "    halo=halo, \n",
    "    boundary_conditions=(PeriodicBoundaryCondition(), )\n",
    ")\n",
    "\n",
    "advector = VectorField(\n",
    "    data = (u_initial,),\n",
    "    halo=halo,\n",
    "    boundary_conditions=(PeriodicBoundaryCondition(), )   \n",
    ")\n",
    "\n",
    "print('h_new', h_new,'\\n')\n",
    "print('u_new', u_initial,'\\n')\n",
    "print('grad', grad(h_new),'\\n')"
   ]
  },
  {
   "cell_type": "markdown",
   "metadata": {},
   "source": [
    "Stepper setup"
   ]
  },
  {
   "cell_type": "code",
   "execution_count": null,
   "metadata": {},
   "outputs": [],
   "source": [
    "from MPyDATA.stepper import Stepper\n",
    "stepper = Stepper(options=options, grid=(nx,))\n",
    "\n",
    "from MPyDATA.solver import Solver\n",
    "solver = Solver(stepper=stepper, advectee=advectee, advector=advector)"
   ]
  },
  {
   "cell_type": "markdown",
   "metadata": {},
   "source": [
    "Initial state"
   ]
  },
  {
   "cell_type": "code",
   "execution_count": null,
   "metadata": {},
   "outputs": [],
   "source": [
    "# plt.imshow(h_new, cmap='hot', interpolation='nearest')\n",
    "axes = plt.gca()\n",
    "plt.ylim(-.2, 1.5)\n",
    "\n",
    "# plt.step([i for i in range(nx)], h_new, '-')\n",
    "plt.plot(h_new, '-')\n",
    "plt.show()"
   ]
  },
  {
   "cell_type": "markdown",
   "metadata": {},
   "source": [
    "Main loop"
   ]
  },
  {
   "cell_type": "code",
   "execution_count": null,
   "metadata": {},
   "outputs": [],
   "source": [
    "def MPDATA(advector, advectee):\n",
    "    solver.curr.get()[:] = advectee\n",
    "    solver.GC_phys.get_component(0)[:] = advector\n",
    "    solver.advance(nt=1)\n",
    "    return solver.curr.get() "
   ]
  },
  {
   "cell_type": "code",
   "execution_count": null,
   "metadata": {},
   "outputs": [],
   "source": [
    "g = 9.8 # m/s^2\n",
    "for i in range(50):\n",
    "    u_mid = extrapolate_in_time(interpolate_in_space(uh_new, h_new), interpolate_in_space(uh_old, h_old))\n",
    "    \n",
    "    #RHS = 0, mass conservation\n",
    "    h_new[:] = MPDATA(u_mid, h_old)\n",
    "    \n",
    "    # -h * grad(h)   \n",
    "    rhs_new = -g *  h_new * grad(h_new, dx=dx)\n",
    "\n",
    "    #momentum conservation\n",
    "    uh_new[:] = MPDATA(u_mid, uh_old + .5 * dt * rhs_old) + .5 * dt * rhs_new\n",
    "    \n",
    "\n",
    "    plt.ylim(-.5, 1.5)\n",
    "    plt.plot(h_new, '-')\n",
    "    plt.show()\n",
    "#     plt.savefig(str(i) + '.png', format=\"png\")\n",
    "    \n",
    "    # replace variables\n",
    "    h_old, h_new = h_new, h_old\n",
    "    u_old, u_new = u_new, u_old\n",
    "    rhs_old, rhs_new = rhs_new, rhs_old\n",
    "    uh_old, uh_new = uh_new, uh_old\n",
    "\n",
    "    "
   ]
  },
  {
   "cell_type": "code",
   "execution_count": null,
   "metadata": {},
   "outputs": [],
   "source": []
  }
 ],
 "metadata": {
  "kernelspec": {
   "display_name": "Python 3",
   "language": "python",
   "name": "python3"
  },
  "language_info": {
   "codemirror_mode": {
    "name": "ipython",
    "version": 3
   },
   "file_extension": ".py",
   "mimetype": "text/x-python",
   "name": "python",
   "nbconvert_exporter": "python",
   "pygments_lexer": "ipython3",
   "version": "3.6.9"
  }
 },
 "nbformat": 4,
 "nbformat_minor": 4
}
