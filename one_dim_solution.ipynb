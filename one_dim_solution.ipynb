{
 "cells": [
  {
   "cell_type": "markdown",
   "metadata": {},
   "source": [
    "MPDATA import"
   ]
  },
  {
   "cell_type": "code",
   "execution_count": 1,
   "metadata": {},
   "outputs": [],
   "source": [
    "from MPyDATA.arakawa_c.scalar_field import ScalarField\n",
    "from MPyDATA.arakawa_c.vector_field import VectorField\n",
    "from MPyDATA.arakawa_c.boundary_condition.cyclic import Cyclic\n",
    "import numpy as np\n",
    "import matplotlib.pyplot as plt"
   ]
  },
  {
   "cell_type": "markdown",
   "metadata": {},
   "source": [
    "Auxiliary functions import\n",
    "\n",
    "           "
   ]
  },
  {
   "cell_type": "code",
   "execution_count": 2,
   "metadata": {},
   "outputs": [],
   "source": [
    "from aux_one_dim import grad, extrapolate_in_time, interpolate_in_space"
   ]
  },
  {
   "cell_type": "markdown",
   "metadata": {},
   "source": [
    "Advectee and advector initialization"
   ]
  },
  {
   "cell_type": "code",
   "execution_count": 3,
   "metadata": {},
   "outputs": [
    {
     "name": "stdout",
     "output_type": "stream",
     "text": [
      "h_new [[0.2 0.2 0.2 0.5 0.2]]\n",
      "\n",
      "u_new [[0. 0. 0. 0. 0. 0.]]\n",
      "\n",
      "grad [[ 0.    0.    0.15  0.   -0.3 ]]\n"
     ]
    }
   ],
   "source": [
    "from MPyDATA.options import Options\n",
    "options = Options(n_iters=2, infinite_gauge=True, flux_corrected_transport=True)\n",
    "\n",
    "nx = 5\n",
    "\n",
    "initial_m_value = 0.2\n",
    "\n",
    "h_initial = np.full((1, nx), initial_m_value)\n",
    "h_initial[0][3] = 0.5\n",
    "\n",
    "h_old = np.array(h_initial)\n",
    "h_new = np.array(h_initial)\n",
    "uh_old = np.array(h_initial)\n",
    "uh_new = np.array(h_initial)\n",
    "\n",
    "\n",
    "u_initial = np.zeros((1, nx + 1))\n",
    "\n",
    "u_old = np.array(u_initial)\n",
    "u_new = np.array(u_initial)\n",
    "\n",
    "halo = options.n_halo\n",
    "\n",
    "advectee = ScalarField(\n",
    "    data = h_new,\n",
    "    halo=halo, \n",
    "    boundary_conditions=(Cyclic(), Cyclic())\n",
    ")\n",
    "\n",
    "advector = VectorField(\n",
    "    data = u_initial,\n",
    "    halo=halo,\n",
    "    boundary_conditions=(Cyclic(), Cyclic())   \n",
    ")\n",
    "\n",
    "print('h_new', h_new)\n",
    "print()\n",
    "print('u_new', u_new)\n",
    "\n",
    "print()\n",
    "print('grad', grad(h_new))"
   ]
  },
  {
   "cell_type": "markdown",
   "metadata": {},
   "source": [
    "Stepper setup"
   ]
  },
  {
   "cell_type": "code",
   "execution_count": 4,
   "metadata": {},
   "outputs": [],
   "source": [
    "from MPyDATA.stepper import Stepper\n",
    "stepper = Stepper(options=options, grid=(1, nx))\n",
    "\n",
    "from MPyDATA.solver import Solver\n",
    "solver = Solver(stepper=stepper, advectee=advectee, advector=advector)"
   ]
  },
  {
   "cell_type": "markdown",
   "metadata": {},
   "source": [
    "Initial state"
   ]
  },
  {
   "cell_type": "code",
   "execution_count": 5,
   "metadata": {},
   "outputs": [
    {
     "data": {
      "image/png": "[encoded data removed]",
      "text/plain": [
       "<Figure size 432x288 with 1 Axes>"
      ]
     },
     "metadata": {
      "needs_background": "light"
     },
     "output_type": "display_data"
    }
   ],
   "source": [
    "plt.imshow(h_new, cmap='hot', interpolation='nearest')\n",
    "plt.show()"
   ]
  },
  {
   "cell_type": "markdown",
   "metadata": {},
   "source": [
    "Main loop"
   ]
  },
  {
   "cell_type": "code",
   "execution_count": 6,
   "metadata": {},
   "outputs": [
    {
     "ename": "TypingError",
     "evalue": "Failed in nopython mode pipeline (step: nopython frontend)\n\u001b[1m\u001b[1m\u001b[1m\u001b[1mFailed in nopython mode pipeline (step: nopython frontend)\n\u001b[1m\u001b[1m\u001b[1m\u001b[1mFailed in nopython mode pipeline (step: nopython frontend)\n\u001b[1m\u001b[1m\u001b[1m\u001b[1mFailed in nopython mode pipeline (step: nopython frontend)\n\u001b[1m\u001b[1m\u001b[1m\u001b[1m\u001b[1m\u001b[1m\u001b[1m\u001b[1m\u001b[1m\u001b[1m\u001b[1m\u001b[1m\u001b[1m\u001b[1m\u001b[1m\u001b[1m\u001b[1m\u001b[1mFailed in nopython mode pipeline (step: nopython frontend)\n\u001b[1m\u001b[1mInvalid use of Function(<built-in function setitem>) with argument(s) of type(s): (array(float64, 1d, C), UniTuple(int64 x 2), float64)\n * parameterized\n\u001b[1mIn definition 0:\u001b[0m\n\u001b[1m    All templates rejected with literals.\u001b[0m\n\u001b[1mIn definition 1:\u001b[0m\n\u001b[1m    All templates rejected without literals.\u001b[0m\n\u001b[1mIn definition 2:\u001b[0m\n\u001b[1m    All templates rejected with literals.\u001b[0m\n\u001b[1mIn definition 3:\u001b[0m\n\u001b[1m    All templates rejected without literals.\u001b[0m\n\u001b[1mIn definition 4:\u001b[0m\n\u001b[1m    All templates rejected with literals.\u001b[0m\n\u001b[1mIn definition 5:\u001b[0m\n\u001b[1m    All templates rejected without literals.\u001b[0m\n\u001b[1mIn definition 6:\u001b[0m\n\u001b[1m    All templates rejected with literals.\u001b[0m\n\u001b[1mIn definition 7:\u001b[0m\n\u001b[1m    All templates rejected without literals.\u001b[0m\n\u001b[1mIn definition 8:\u001b[0m\n\u001b[1m    TypeError: cannot index array(float64, 1d, C) with 2 indices: UniTuple(int64 x 2)\u001b[0m\n    raised from /home/white/study/cm/venv/lib/python3.6/site-packages/numba/core/typing/arraydecl.py:85\n\u001b[1mIn definition 9:\u001b[0m\n\u001b[1m    TypeError: cannot index array(float64, 1d, C) with 2 indices: UniTuple(int64 x 2)\u001b[0m\n    raised from /home/white/study/cm/venv/lib/python3.6/site-packages/numba/core/typing/arraydecl.py:85\n\u001b[1mThis error is usually caused by passing an argument of a type that is unsupported by the named function.\u001b[0m\u001b[0m\n\u001b[0m\u001b[1m[1] During: typing of setitem at /home/white/study/cm/venv/lib/python3.6/site-packages/MPyDATA/arakawa_c/indexers.py (75)\u001b[0m\n\u001b[1m\nFile \"../venv/lib/python3.6/site-packages/MPyDATA/arakawa_c/indexers.py\", line 75:\u001b[0m\n\u001b[1mdef set_2d(arr, i, j, value):\n\u001b[1m    arr[i, j] = value\n\u001b[0m    \u001b[1m^\u001b[0m\u001b[0m\n\n\u001b[0m\u001b[1m[1] During: resolving callee type: type(CPUDispatcher(<function set_2d at 0x7fa856410bf8>))\u001b[0m\n\u001b[0m\u001b[1m[2] During: typing of call at /home/white/study/cm/venv/lib/python3.6/site-packages/MPyDATA/arakawa_c/traversals.py (187)\n\u001b[0m\n\u001b[0m\u001b[1m[3] During: resolving callee type: type(CPUDispatcher(<function set_2d at 0x7fa856410bf8>))\u001b[0m\n\u001b[0m\u001b[1m[4] During: typing of call at /home/white/study/cm/venv/lib/python3.6/site-packages/MPyDATA/arakawa_c/traversals.py (191)\n\u001b[0m\n\u001b[0m\u001b[1m[5] During: resolving callee type: type(CPUDispatcher(<function set_2d at 0x7fa856410bf8>))\u001b[0m\n\u001b[0m\u001b[1m[6] During: typing of call at /home/white/study/cm/venv/lib/python3.6/site-packages/MPyDATA/arakawa_c/traversals.py (196)\n\u001b[0m\n\u001b[0m\u001b[1m[7] During: resolving callee type: type(CPUDispatcher(<function set_2d at 0x7fa856410bf8>))\u001b[0m\n\u001b[0m\u001b[1m[8] During: typing of call at /home/white/study/cm/venv/lib/python3.6/site-packages/MPyDATA/arakawa_c/traversals.py (200)\n\u001b[0m\n\u001b[0m\u001b[1m[9] During: resolving callee type: type(CPUDispatcher(<function set_2d at 0x7fa856410bf8>))\u001b[0m\n\u001b[0m\u001b[1m[10] During: typing of call at /home/white/study/cm/venv/lib/python3.6/site-packages/MPyDATA/arakawa_c/traversals.py (206)\n\u001b[0m\n\u001b[0m\u001b[1m[11] During: resolving callee type: type(CPUDispatcher(<function set_2d at 0x7fa856410bf8>))\u001b[0m\n\u001b[0m\u001b[1m[12] During: typing of call at /home/white/study/cm/venv/lib/python3.6/site-packages/MPyDATA/arakawa_c/traversals.py (210)\n\u001b[0m\n\u001b[0m\u001b[1m[13] During: resolving callee type: type(CPUDispatcher(<function set_2d at 0x7fa856410bf8>))\u001b[0m\n\u001b[0m\u001b[1m[14] During: typing of call at /home/white/study/cm/venv/lib/python3.6/site-packages/MPyDATA/arakawa_c/traversals.py (214)\n\u001b[0m\n\u001b[0m\u001b[1m[15] During: resolving callee type: type(CPUDispatcher(<function set_2d at 0x7fa856410bf8>))\u001b[0m\n\u001b[0m\u001b[1m[16] During: typing of call at /home/white/study/cm/venv/lib/python3.6/site-packages/MPyDATA/arakawa_c/traversals.py (218)\n\u001b[0m\n\u001b[0m\u001b[1m[17] During: resolving callee type: type(CPUDispatcher(<function set_2d at 0x7fa856410bf8>))\u001b[0m\n\u001b[0m\u001b[1m[18] During: typing of call at /home/white/study/cm/venv/lib/python3.6/site-packages/MPyDATA/arakawa_c/traversals.py (187)\n\u001b[0m\n\u001b[1m\nFile \"../venv/lib/python3.6/site-packages/MPyDATA/arakawa_c/traversals.py\", line 187:\u001b[0m\n\u001b[1m        def boundary_cond_vector(meta, comp_0, comp_1, fun_0, fun_1):\n            <source elided>\n                    focus = (i, j)\n\u001b[1m                    set(comp_0, i, j, fun_0((focus, comp_0), ni + 1, 1))\n\u001b[0m                    \u001b[1m^\u001b[0m\u001b[0m\n\n\u001b[0m\u001b[1m[1] During: resolving callee type: type(CPUDispatcher(<function Traversals.make_boundary_conditions.<locals>.boundary_cond_vector at 0x7fa854cf6510>))\u001b[0m\n\u001b[0m\u001b[1m[2] During: typing of call at /home/white/study/cm/venv/lib/python3.6/site-packages/MPyDATA/arakawa_c/traversals.py (107)\n\u001b[0m\n\u001b[0m\u001b[1m[3] During: resolving callee type: type(CPUDispatcher(<function Traversals.make_boundary_conditions.<locals>.boundary_cond_vector at 0x7fa854cf6510>))\u001b[0m\n\u001b[0m\u001b[1m[4] During: typing of call at /home/white/study/cm/venv/lib/python3.6/site-packages/MPyDATA/arakawa_c/traversals.py (107)\n\u001b[0m\n\u001b[1m\nFile \"../venv/lib/python3.6/site-packages/MPyDATA/arakawa_c/traversals.py\", line 107:\u001b[0m\n\u001b[1m        def apply_scalar(fun_0, fun_1,\n            <source elided>\n                         scal_arg4_meta, scal_arg_4, scal_arg4_bc0, scal_arg4_bc1):\n\u001b[1m            boundary_cond_vector(vec_arg1_meta, vec_arg1_0, vec_arg1_1, vec_arg1_bc0, vec_arg1_bc1)\n\u001b[0m            \u001b[1m^\u001b[0m\u001b[0m\n\n\u001b[0m\u001b[1m[1] During: resolving callee type: type(CPUDispatcher(<function Traversals.make_apply_scalar.<locals>.apply_scalar at 0x7fa854cf68c8>))\u001b[0m\n\u001b[0m\u001b[1m[2] During: typing of call at /home/white/study/cm/venv/lib/python3.6/site-packages/MPyDATA/formulae/flux_corrected_transport.py (27)\n\u001b[0m\n\u001b[0m\u001b[1m[3] During: resolving callee type: type(CPUDispatcher(<function Traversals.make_apply_scalar.<locals>.apply_scalar at 0x7fa854cf68c8>))\u001b[0m\n\u001b[0m\u001b[1m[4] During: typing of call at /home/white/study/cm/venv/lib/python3.6/site-packages/MPyDATA/formulae/flux_corrected_transport.py (27)\n\u001b[0m\n\u001b[1m\nFile \"../venv/lib/python3.6/site-packages/MPyDATA/formulae/flux_corrected_transport.py\", line 27:\u001b[0m\n\u001b[1m        def apply(psi_extremum, psi, psi_bc, null_vecfield, null_vecfield_bc):\n            <source elided>\n            return apply_scalar(*formulae, *psi_extremum, *null_vecfield, *null_vecfield_bc, *psi, *psi_bc,\n\u001b[1m                                *null_scalfield, *null_scalfield_bc, *null_scalfield, *null_scalfield_bc)\n\u001b[0m                                \u001b[1m^\u001b[0m\u001b[0m\n\n\u001b[0m\u001b[1m[1] During: resolving callee type: type(CPUDispatcher(<function make_psi_extremum.<locals>.apply at 0x7fa854c9f378>))\u001b[0m\n\u001b[0m\u001b[1m[2] During: typing of call at /home/white/study/cm/venv/lib/python3.6/site-packages/MPyDATA/stepper.py (115)\n\u001b[0m\n\u001b[0m\u001b[1m[3] During: resolving callee type: type(CPUDispatcher(<function make_psi_extremum.<locals>.apply at 0x7fa854c9f378>))\u001b[0m\n\u001b[0m\u001b[1m[4] During: typing of call at /home/white/study/cm/venv/lib/python3.6/site-packages/MPyDATA/stepper.py (115)\n\u001b[0m\n\u001b[1m\nFile \"../venv/lib/python3.6/site-packages/MPyDATA/stepper.py\", line 115:\u001b[0m\n\u001b[1m    def step(nt, mu_coeff,\n        <source elided>\n                    if flux_corrected_transport:\n\u001b[1m                        fct_psi_min(psi_min, psi, psi_bc, null_vecfield, null_vecfield_bc)\n\u001b[0m                        \u001b[1m^\u001b[0m\u001b[0m\n",
     "output_type": "error",
     "traceback": [
      "\u001b[0;31m---------------------------------------------------------------------------\u001b[0m",
      "\u001b[0;31mTypingError\u001b[0m                               Traceback (most recent call last)",
      "\u001b[0;32m<ipython-input-6-06cda6a1aaf8>\u001b[0m in \u001b[0;36m<module>\u001b[0;34m\u001b[0m\n\u001b[1;32m     12\u001b[0m \u001b[0;31m#     solver.advectee = h_old\u001b[0m\u001b[0;34m\u001b[0m\u001b[0;34m\u001b[0m\u001b[0;34m\u001b[0m\u001b[0m\n\u001b[1;32m     13\u001b[0m \u001b[0;31m#     solver.advector = u_mid\u001b[0m\u001b[0;34m\u001b[0m\u001b[0;34m\u001b[0m\u001b[0;34m\u001b[0m\u001b[0m\n\u001b[0;32m---> 14\u001b[0;31m     \u001b[0msolver\u001b[0m\u001b[0;34m.\u001b[0m\u001b[0madvance\u001b[0m\u001b[0;34m(\u001b[0m\u001b[0mnt\u001b[0m\u001b[0;34m=\u001b[0m\u001b[0;36m1\u001b[0m\u001b[0;34m)\u001b[0m\u001b[0;34m\u001b[0m\u001b[0;34m\u001b[0m\u001b[0m\n\u001b[0m\u001b[1;32m     15\u001b[0m     \u001b[0mh_new\u001b[0m \u001b[0;34m=\u001b[0m \u001b[0msolver\u001b[0m\u001b[0;34m.\u001b[0m\u001b[0mcurr\u001b[0m\u001b[0;34m.\u001b[0m\u001b[0mget\u001b[0m\u001b[0;34m(\u001b[0m\u001b[0;34m)\u001b[0m\u001b[0;34m\u001b[0m\u001b[0;34m\u001b[0m\u001b[0m\n\u001b[1;32m     16\u001b[0m \u001b[0;34m\u001b[0m\u001b[0m\n",
      "\u001b[0;32m~/study/cm/venv/lib/python3.6/site-packages/MPyDATA/solver.py\u001b[0m in \u001b[0;36madvance\u001b[0;34m(self, nt, mu_coeff)\u001b[0m\n\u001b[1;32m     47\u001b[0m                      \u001b[0;34m*\u001b[0m\u001b[0mself\u001b[0m\u001b[0;34m.\u001b[0m\u001b[0madvectee_max\u001b[0m\u001b[0;34m.\u001b[0m\u001b[0mimpl\u001b[0m\u001b[0;34m,\u001b[0m\u001b[0;34m\u001b[0m\u001b[0;34m\u001b[0m\u001b[0m\n\u001b[1;32m     48\u001b[0m                      \u001b[0;34m*\u001b[0m\u001b[0mself\u001b[0m\u001b[0;34m.\u001b[0m\u001b[0mbeta_up\u001b[0m\u001b[0;34m.\u001b[0m\u001b[0mimpl\u001b[0m\u001b[0;34m,\u001b[0m\u001b[0;34m\u001b[0m\u001b[0;34m\u001b[0m\u001b[0m\n\u001b[0;32m---> 49\u001b[0;31m                      \u001b[0;34m*\u001b[0m\u001b[0mself\u001b[0m\u001b[0;34m.\u001b[0m\u001b[0mbeta_down\u001b[0m\u001b[0;34m.\u001b[0m\u001b[0mimpl\u001b[0m\u001b[0;34m\u001b[0m\u001b[0;34m\u001b[0m\u001b[0m\n\u001b[0m\u001b[1;32m     50\u001b[0m                      )\n",
      "\u001b[0;32m~/study/cm/venv/lib/python3.6/site-packages/MPyDATA/stepper.py\u001b[0m in \u001b[0;36m__call__\u001b[0;34m(self, nt, mu_coeff, psi, psi_bc, GC_phys, GC_phys_bc, g_factor, g_factor_bc, vectmp_a, vectmp_a_bc, vectmp_b, vectmp_b_bc, vectmp_c, vectmp_c_bc, psi_min, psi_min_bc, psi_max, psi_max_bc, beta_up, beta_up_bc, beta_down, beta_down_bc)\u001b[0m\n\u001b[1;32m     59\u001b[0m              \u001b[0mpsi_max\u001b[0m\u001b[0;34m,\u001b[0m \u001b[0mpsi_max_bc\u001b[0m\u001b[0;34m,\u001b[0m\u001b[0;34m\u001b[0m\u001b[0;34m\u001b[0m\u001b[0m\n\u001b[1;32m     60\u001b[0m              \u001b[0mbeta_up\u001b[0m\u001b[0;34m,\u001b[0m \u001b[0mbeta_up_bc\u001b[0m\u001b[0;34m,\u001b[0m\u001b[0;34m\u001b[0m\u001b[0;34m\u001b[0m\u001b[0m\n\u001b[0;32m---> 61\u001b[0;31m              beta_down, beta_down_bc)\n\u001b[0m\u001b[1;32m     62\u001b[0m \u001b[0;34m\u001b[0m\u001b[0m\n\u001b[1;32m     63\u001b[0m \u001b[0;34m@\u001b[0m\u001b[0mlru_cache\u001b[0m\u001b[0;34m(\u001b[0m\u001b[0;34m)\u001b[0m\u001b[0;34m\u001b[0m\u001b[0;34m\u001b[0m\u001b[0m\n",
      "\u001b[0;32m~/study/cm/venv/lib/python3.6/site-packages/numba/core/dispatcher.py\u001b[0m in \u001b[0;36m_compile_for_args\u001b[0;34m(self, *args, **kws)\u001b[0m\n\u001b[1;32m    399\u001b[0m                 \u001b[0me\u001b[0m\u001b[0;34m.\u001b[0m\u001b[0mpatch_message\u001b[0m\u001b[0;34m(\u001b[0m\u001b[0mmsg\u001b[0m\u001b[0;34m)\u001b[0m\u001b[0;34m\u001b[0m\u001b[0;34m\u001b[0m\u001b[0m\n\u001b[1;32m    400\u001b[0m \u001b[0;34m\u001b[0m\u001b[0m\n\u001b[0;32m--> 401\u001b[0;31m             \u001b[0merror_rewrite\u001b[0m\u001b[0;34m(\u001b[0m\u001b[0me\u001b[0m\u001b[0;34m,\u001b[0m \u001b[0;34m'typing'\u001b[0m\u001b[0;34m)\u001b[0m\u001b[0;34m\u001b[0m\u001b[0;34m\u001b[0m\u001b[0m\n\u001b[0m\u001b[1;32m    402\u001b[0m         \u001b[0;32mexcept\u001b[0m \u001b[0merrors\u001b[0m\u001b[0;34m.\u001b[0m\u001b[0mUnsupportedError\u001b[0m \u001b[0;32mas\u001b[0m \u001b[0me\u001b[0m\u001b[0;34m:\u001b[0m\u001b[0;34m\u001b[0m\u001b[0;34m\u001b[0m\u001b[0m\n\u001b[1;32m    403\u001b[0m             \u001b[0;31m# Something unsupported is present in the user code, add help info\u001b[0m\u001b[0;34m\u001b[0m\u001b[0;34m\u001b[0m\u001b[0;34m\u001b[0m\u001b[0m\n",
      "\u001b[0;32m~/study/cm/venv/lib/python3.6/site-packages/numba/core/dispatcher.py\u001b[0m in \u001b[0;36merror_rewrite\u001b[0;34m(e, issue_type)\u001b[0m\n\u001b[1;32m    342\u001b[0m                 \u001b[0;32mraise\u001b[0m \u001b[0me\u001b[0m\u001b[0;34m\u001b[0m\u001b[0;34m\u001b[0m\u001b[0m\n\u001b[1;32m    343\u001b[0m             \u001b[0;32melse\u001b[0m\u001b[0;34m:\u001b[0m\u001b[0;34m\u001b[0m\u001b[0;34m\u001b[0m\u001b[0m\n\u001b[0;32m--> 344\u001b[0;31m                 \u001b[0mreraise\u001b[0m\u001b[0;34m(\u001b[0m\u001b[0mtype\u001b[0m\u001b[0;34m(\u001b[0m\u001b[0me\u001b[0m\u001b[0;34m)\u001b[0m\u001b[0;34m,\u001b[0m \u001b[0me\u001b[0m\u001b[0;34m,\u001b[0m \u001b[0;32mNone\u001b[0m\u001b[0;34m)\u001b[0m\u001b[0;34m\u001b[0m\u001b[0;34m\u001b[0m\u001b[0m\n\u001b[0m\u001b[1;32m    345\u001b[0m \u001b[0;34m\u001b[0m\u001b[0m\n\u001b[1;32m    346\u001b[0m         \u001b[0margtypes\u001b[0m \u001b[0;34m=\u001b[0m \u001b[0;34m[\u001b[0m\u001b[0;34m]\u001b[0m\u001b[0;34m\u001b[0m\u001b[0;34m\u001b[0m\u001b[0m\n",
      "\u001b[0;32m~/study/cm/venv/lib/python3.6/site-packages/numba/core/utils.py\u001b[0m in \u001b[0;36mreraise\u001b[0;34m(tp, value, tb)\u001b[0m\n\u001b[1;32m     77\u001b[0m         \u001b[0mvalue\u001b[0m \u001b[0;34m=\u001b[0m \u001b[0mtp\u001b[0m\u001b[0;34m(\u001b[0m\u001b[0;34m)\u001b[0m\u001b[0;34m\u001b[0m\u001b[0;34m\u001b[0m\u001b[0m\n\u001b[1;32m     78\u001b[0m     \u001b[0;32mif\u001b[0m \u001b[0mvalue\u001b[0m\u001b[0;34m.\u001b[0m\u001b[0m__traceback__\u001b[0m \u001b[0;32mis\u001b[0m \u001b[0;32mnot\u001b[0m \u001b[0mtb\u001b[0m\u001b[0;34m:\u001b[0m\u001b[0;34m\u001b[0m\u001b[0;34m\u001b[0m\u001b[0m\n\u001b[0;32m---> 79\u001b[0;31m         \u001b[0;32mraise\u001b[0m \u001b[0mvalue\u001b[0m\u001b[0;34m.\u001b[0m\u001b[0mwith_traceback\u001b[0m\u001b[0;34m(\u001b[0m\u001b[0mtb\u001b[0m\u001b[0;34m)\u001b[0m\u001b[0;34m\u001b[0m\u001b[0;34m\u001b[0m\u001b[0m\n\u001b[0m\u001b[1;32m     80\u001b[0m     \u001b[0;32mraise\u001b[0m \u001b[0mvalue\u001b[0m\u001b[0;34m\u001b[0m\u001b[0;34m\u001b[0m\u001b[0m\n\u001b[1;32m     81\u001b[0m \u001b[0;34m\u001b[0m\u001b[0m\n",
      "\u001b[0;31mTypingError\u001b[0m: Failed in nopython mode pipeline (step: nopython frontend)\n\u001b[1m\u001b[1m\u001b[1m\u001b[1mFailed in nopython mode pipeline (step: nopython frontend)\n\u001b[1m\u001b[1m\u001b[1m\u001b[1mFailed in nopython mode pipeline (step: nopython frontend)\n\u001b[1m\u001b[1m\u001b[1m\u001b[1mFailed in nopython mode pipeline (step: nopython frontend)\n\u001b[1m\u001b[1m\u001b[1m\u001b[1m\u001b[1m\u001b[1m\u001b[1m\u001b[1m\u001b[1m\u001b[1m\u001b[1m\u001b[1m\u001b[1m\u001b[1m\u001b[1m\u001b[1m\u001b[1m\u001b[1mFailed in nopython mode pipeline (step: nopython frontend)\n\u001b[1m\u001b[1mInvalid use of Function(<built-in function setitem>) with argument(s) of type(s): (array(float64, 1d, C), UniTuple(int64 x 2), float64)\n * parameterized\n\u001b[1mIn definition 0:\u001b[0m\n\u001b[1m    All templates rejected with literals.\u001b[0m\n\u001b[1mIn definition 1:\u001b[0m\n\u001b[1m    All templates rejected without literals.\u001b[0m\n\u001b[1mIn definition 2:\u001b[0m\n\u001b[1m    All templates rejected with literals.\u001b[0m\n\u001b[1mIn definition 3:\u001b[0m\n\u001b[1m    All templates rejected without literals.\u001b[0m\n\u001b[1mIn definition 4:\u001b[0m\n\u001b[1m    All templates rejected with literals.\u001b[0m\n\u001b[1mIn definition 5:\u001b[0m\n\u001b[1m    All templates rejected without literals.\u001b[0m\n\u001b[1mIn definition 6:\u001b[0m\n\u001b[1m    All templates rejected with literals.\u001b[0m\n\u001b[1mIn definition 7:\u001b[0m\n\u001b[1m    All templates rejected without literals.\u001b[0m\n\u001b[1mIn definition 8:\u001b[0m\n\u001b[1m    TypeError: cannot index array(float64, 1d, C) with 2 indices: UniTuple(int64 x 2)\u001b[0m\n    raised from /home/white/study/cm/venv/lib/python3.6/site-packages/numba/core/typing/arraydecl.py:85\n\u001b[1mIn definition 9:\u001b[0m\n\u001b[1m    TypeError: cannot index array(float64, 1d, C) with 2 indices: UniTuple(int64 x 2)\u001b[0m\n    raised from /home/white/study/cm/venv/lib/python3.6/site-packages/numba/core/typing/arraydecl.py:85\n\u001b[1mThis error is usually caused by passing an argument of a type that is unsupported by the named function.\u001b[0m\u001b[0m\n\u001b[0m\u001b[1m[1] During: typing of setitem at /home/white/study/cm/venv/lib/python3.6/site-packages/MPyDATA/arakawa_c/indexers.py (75)\u001b[0m\n\u001b[1m\nFile \"../venv/lib/python3.6/site-packages/MPyDATA/arakawa_c/indexers.py\", line 75:\u001b[0m\n\u001b[1mdef set_2d(arr, i, j, value):\n\u001b[1m    arr[i, j] = value\n\u001b[0m    \u001b[1m^\u001b[0m\u001b[0m\n\n\u001b[0m\u001b[1m[1] During: resolving callee type: type(CPUDispatcher(<function set_2d at 0x7fa856410bf8>))\u001b[0m\n\u001b[0m\u001b[1m[2] During: typing of call at /home/white/study/cm/venv/lib/python3.6/site-packages/MPyDATA/arakawa_c/traversals.py (187)\n\u001b[0m\n\u001b[0m\u001b[1m[3] During: resolving callee type: type(CPUDispatcher(<function set_2d at 0x7fa856410bf8>))\u001b[0m\n\u001b[0m\u001b[1m[4] During: typing of call at /home/white/study/cm/venv/lib/python3.6/site-packages/MPyDATA/arakawa_c/traversals.py (191)\n\u001b[0m\n\u001b[0m\u001b[1m[5] During: resolving callee type: type(CPUDispatcher(<function set_2d at 0x7fa856410bf8>))\u001b[0m\n\u001b[0m\u001b[1m[6] During: typing of call at /home/white/study/cm/venv/lib/python3.6/site-packages/MPyDATA/arakawa_c/traversals.py (196)\n\u001b[0m\n\u001b[0m\u001b[1m[7] During: resolving callee type: type(CPUDispatcher(<function set_2d at 0x7fa856410bf8>))\u001b[0m\n\u001b[0m\u001b[1m[8] During: typing of call at /home/white/study/cm/venv/lib/python3.6/site-packages/MPyDATA/arakawa_c/traversals.py (200)\n\u001b[0m\n\u001b[0m\u001b[1m[9] During: resolving callee type: type(CPUDispatcher(<function set_2d at 0x7fa856410bf8>))\u001b[0m\n\u001b[0m\u001b[1m[10] During: typing of call at /home/white/study/cm/venv/lib/python3.6/site-packages/MPyDATA/arakawa_c/traversals.py (206)\n\u001b[0m\n\u001b[0m\u001b[1m[11] During: resolving callee type: type(CPUDispatcher(<function set_2d at 0x7fa856410bf8>))\u001b[0m\n\u001b[0m\u001b[1m[12] During: typing of call at /home/white/study/cm/venv/lib/python3.6/site-packages/MPyDATA/arakawa_c/traversals.py (210)\n\u001b[0m\n\u001b[0m\u001b[1m[13] During: resolving callee type: type(CPUDispatcher(<function set_2d at 0x7fa856410bf8>))\u001b[0m\n\u001b[0m\u001b[1m[14] During: typing of call at /home/white/study/cm/venv/lib/python3.6/site-packages/MPyDATA/arakawa_c/traversals.py (214)\n\u001b[0m\n\u001b[0m\u001b[1m[15] During: resolving callee type: type(CPUDispatcher(<function set_2d at 0x7fa856410bf8>))\u001b[0m\n\u001b[0m\u001b[1m[16] During: typing of call at /home/white/study/cm/venv/lib/python3.6/site-packages/MPyDATA/arakawa_c/traversals.py (218)\n\u001b[0m\n\u001b[0m\u001b[1m[17] During: resolving callee type: type(CPUDispatcher(<function set_2d at 0x7fa856410bf8>))\u001b[0m\n\u001b[0m\u001b[1m[18] During: typing of call at /home/white/study/cm/venv/lib/python3.6/site-packages/MPyDATA/arakawa_c/traversals.py (187)\n\u001b[0m\n\u001b[1m\nFile \"../venv/lib/python3.6/site-packages/MPyDATA/arakawa_c/traversals.py\", line 187:\u001b[0m\n\u001b[1m        def boundary_cond_vector(meta, comp_0, comp_1, fun_0, fun_1):\n            <source elided>\n                    focus = (i, j)\n\u001b[1m                    set(comp_0, i, j, fun_0((focus, comp_0), ni + 1, 1))\n\u001b[0m                    \u001b[1m^\u001b[0m\u001b[0m\n\n\u001b[0m\u001b[1m[1] During: resolving callee type: type(CPUDispatcher(<function Traversals.make_boundary_conditions.<locals>.boundary_cond_vector at 0x7fa854cf6510>))\u001b[0m\n\u001b[0m\u001b[1m[2] During: typing of call at /home/white/study/cm/venv/lib/python3.6/site-packages/MPyDATA/arakawa_c/traversals.py (107)\n\u001b[0m\n\u001b[0m\u001b[1m[3] During: resolving callee type: type(CPUDispatcher(<function Traversals.make_boundary_conditions.<locals>.boundary_cond_vector at 0x7fa854cf6510>))\u001b[0m\n\u001b[0m\u001b[1m[4] During: typing of call at /home/white/study/cm/venv/lib/python3.6/site-packages/MPyDATA/arakawa_c/traversals.py (107)\n\u001b[0m\n\u001b[1m\nFile \"../venv/lib/python3.6/site-packages/MPyDATA/arakawa_c/traversals.py\", line 107:\u001b[0m\n\u001b[1m        def apply_scalar(fun_0, fun_1,\n            <source elided>\n                         scal_arg4_meta, scal_arg_4, scal_arg4_bc0, scal_arg4_bc1):\n\u001b[1m            boundary_cond_vector(vec_arg1_meta, vec_arg1_0, vec_arg1_1, vec_arg1_bc0, vec_arg1_bc1)\n\u001b[0m            \u001b[1m^\u001b[0m\u001b[0m\n\n\u001b[0m\u001b[1m[1] During: resolving callee type: type(CPUDispatcher(<function Traversals.make_apply_scalar.<locals>.apply_scalar at 0x7fa854cf68c8>))\u001b[0m\n\u001b[0m\u001b[1m[2] During: typing of call at /home/white/study/cm/venv/lib/python3.6/site-packages/MPyDATA/formulae/flux_corrected_transport.py (27)\n\u001b[0m\n\u001b[0m\u001b[1m[3] During: resolving callee type: type(CPUDispatcher(<function Traversals.make_apply_scalar.<locals>.apply_scalar at 0x7fa854cf68c8>))\u001b[0m\n\u001b[0m\u001b[1m[4] During: typing of call at /home/white/study/cm/venv/lib/python3.6/site-packages/MPyDATA/formulae/flux_corrected_transport.py (27)\n\u001b[0m\n\u001b[1m\nFile \"../venv/lib/python3.6/site-packages/MPyDATA/formulae/flux_corrected_transport.py\", line 27:\u001b[0m\n\u001b[1m        def apply(psi_extremum, psi, psi_bc, null_vecfield, null_vecfield_bc):\n            <source elided>\n            return apply_scalar(*formulae, *psi_extremum, *null_vecfield, *null_vecfield_bc, *psi, *psi_bc,\n\u001b[1m                                *null_scalfield, *null_scalfield_bc, *null_scalfield, *null_scalfield_bc)\n\u001b[0m                                \u001b[1m^\u001b[0m\u001b[0m\n\n\u001b[0m\u001b[1m[1] During: resolving callee type: type(CPUDispatcher(<function make_psi_extremum.<locals>.apply at 0x7fa854c9f378>))\u001b[0m\n\u001b[0m\u001b[1m[2] During: typing of call at /home/white/study/cm/venv/lib/python3.6/site-packages/MPyDATA/stepper.py (115)\n\u001b[0m\n\u001b[0m\u001b[1m[3] During: resolving callee type: type(CPUDispatcher(<function make_psi_extremum.<locals>.apply at 0x7fa854c9f378>))\u001b[0m\n\u001b[0m\u001b[1m[4] During: typing of call at /home/white/study/cm/venv/lib/python3.6/site-packages/MPyDATA/stepper.py (115)\n\u001b[0m\n\u001b[1m\nFile \"../venv/lib/python3.6/site-packages/MPyDATA/stepper.py\", line 115:\u001b[0m\n\u001b[1m    def step(nt, mu_coeff,\n        <source elided>\n                    if flux_corrected_transport:\n\u001b[1m                        fct_psi_min(psi_min, psi, psi_bc, null_vecfield, null_vecfield_bc)\n\u001b[0m                        \u001b[1m^\u001b[0m\u001b[0m\n"
     ]
    }
   ],
   "source": [
    "dt = 1.\n",
    "rhs_old = np.array(h_old)\n",
    "for _ in range(5):\n",
    " \n",
    "    u_mid = extrapolate_in_time(interpolate_in_space(uh_new, h_new), interpolate_in_space(uh_old, h_old))\n",
    "\n",
    "    #RHS = 0, mass conservation\n",
    "#     solver.advectee = h_old\n",
    "#     solver.advector = u_mid\n",
    "    solver.advance(nt=1)\n",
    "    h_new = solver.curr.get()\n",
    "    \n",
    "    # -h * grad(h)\n",
    "    rhs_new = - h_new * grad(h_new)\n",
    "    \n",
    "    \n",
    "    #  momentum conservation\n",
    "#     solver.advectee = h_old + 0.5 * dt * rhs_old\n",
    "#     solver.advector = u_mid\n",
    "\n",
    "    solver.advance(nt=1)\n",
    "    h_new = solver.curr.get() + (.5* dt*rhs_new)\n",
    "    \n",
    "    \n",
    "    plt.imshow(h_new, cmap='hot', interpolation='nearest')\n",
    "    plt.show()\n",
    "    \n",
    "    #replace variables\n",
    "    h_old = h_new\n",
    "    u_old = u_new\n",
    "    rhs_old = rhs_new"
   ]
  }
 ],
 "metadata": {
  "kernelspec": {
   "display_name": "Python 3",
   "language": "python",
   "name": "python3"
  },
  "language_info": {
   "codemirror_mode": {
    "name": "ipython",
    "version": 3
   },
   "file_extension": ".py",
   "mimetype": "text/x-python",
   "name": "python",
   "nbconvert_exporter": "python",
   "pygments_lexer": "ipython3",
   "version": "3.6.9"
  }
 },
 "nbformat": 4,
 "nbformat_minor": 4
}
